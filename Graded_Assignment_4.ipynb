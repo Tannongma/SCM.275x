{
  "cells": [
    {
      "cell_type": "markdown",
      "metadata": {
        "id": "view-in-github",
        "colab_type": "text"
      },
      "source": [
        "<a href=\"https://colab.research.google.com/github/Tannongma/SCM.275x/blob/main/Graded_Assignment_4.ipynb\" target=\"_parent\"><img src=\"https://colab.research.google.com/assets/colab-badge.svg\" alt=\"Open In Colab\"/></a>"
      ]
    },
    {
      "cell_type": "markdown",
      "metadata": {
        "id": "PUOYOYHmprv4"
      },
      "source": [
        "SCM.275 - Advanced Supply Chain Systems Planning and Network Design\n",
        "# **Graded Assignment 4**"
      ],
      "id": "PUOYOYHmprv4"
    },
    {
      "cell_type": "markdown",
      "metadata": {
        "id": "W1IStCD4elSB"
      },
      "source": [
        "### *Before starting, make sure to save a copy of this notebook to your Google Drive!*"
      ],
      "id": "W1IStCD4elSB"
    },
    {
      "cell_type": "markdown",
      "source": [
        "## **Initialization**"
      ],
      "metadata": {
        "id": "QRlSq4Xmvgd1"
      },
      "id": "QRlSq4Xmvgd1"
    },
    {
      "cell_type": "code",
      "source": [
        "# Install necessary packages if they are not already installed\n",
        "\n",
        "!pip install gurobipy   # Gurobi optimization solver\n",
        "!pip install pandas     # Pandas for data analysis and manipulation\n",
        "!pip install folium     # Folium for creating interactive maps\n",
        "!pip install geopy      # Geopy for computing distances and working with geographic data\n",
        "\n",
        "!pip install scgraph==2.1.0         # Python package used to compute paths and distances on a real-world transportation network\n",
        "!pip install scgraph_data==2.0.0    # Python package used to compute paths and distances on a real-world transportation network\n",
        "\n"
      ],
      "metadata": {
        "id": "jj-FSjFGMQU2"
      },
      "id": "jj-FSjFGMQU2",
      "execution_count": null,
      "outputs": []
    },
    {
      "cell_type": "code",
      "execution_count": null,
      "id": "865e0254",
      "metadata": {
        "id": "865e0254"
      },
      "outputs": [],
      "source": [
        "# Import all required packages\n",
        "\n",
        "import pandas as pd                   # For data manipulation and analysis\n",
        "import gurobipy as grb                # Gurobi optimization library for solving mathematical models\n",
        "import folium                         # For creating interactive maps\n",
        "import folium.plugins as plugins      # Additional plugins for folium\n",
        "from geopy.distance import geodesic   # For calculating geodesic distances between two points\n",
        "\n",
        "\n",
        "import scgraph                                                  # For computing paths and distances on a real-world transportation network\n",
        "from scgraph.geographs.us_freeway import us_freeway_geograph    # Data on US highway network (for road paths and distances)\n",
        "from scgraph.geographs.marnet import marnet_geograph            # Data on maritime routes (for ocean paths and distances)\n",
        "import matplotlib.pyplot as plt                                 # Plotting library"
      ]
    },
    {
      "cell_type": "markdown",
      "source": [
        "## **Helper functions**"
      ],
      "metadata": {
        "id": "R0XvryAxFTh7"
      },
      "id": "R0XvryAxFTh7"
    },
    {
      "cell_type": "markdown",
      "source": [
        "### **Plotting nodes on a map**"
      ],
      "metadata": {
        "id": "jzh3TvPRHMY5"
      },
      "id": "jzh3TvPRHMY5"
    },
    {
      "cell_type": "code",
      "source": [
        "# Defining a function to plot nodes on a map using folium\n",
        "\n",
        "def plot_nodes(map,                         # Folium map object to plot the nodes on\n",
        "               nodes,                       # Dictionary of node objects where each node contains attributes like latitude and longitude\n",
        "               icon,                        # Icon symbol to use for the markers on the map\n",
        "               color,                       # Color of the marker icon\n",
        "               background_color,            # Background color of the marker icon\n",
        "               ):\n",
        "\n",
        "    # Loop through each node in the dictionary\n",
        "    for node in nodes.values():\n",
        "\n",
        "        # Create a folium marker\n",
        "        marker = folium.Marker(\n",
        "            location=[node.lat, node.lon],              # Set the marker's location\n",
        "            popup = (node.ID + \"-\" + node.name),        # Create a marker popup with the node ID and name\n",
        "            icon=plugins.BeautifyIcon(                  # Create a marker's icon\n",
        "                icon=icon,\n",
        "                icon_shape=\"circle\",\n",
        "                text_color=color,\n",
        "                border_color=color,\n",
        "                background_color=background_color,\n",
        "            )\n",
        "        )\n",
        "\n",
        "        # Add a folium marker to the map\n",
        "        marker.add_to(map)\n"
      ],
      "metadata": {
        "id": "5fWTWseSFpZu"
      },
      "execution_count": null,
      "outputs": [],
      "id": "5fWTWseSFpZu"
    },
    {
      "cell_type": "markdown",
      "source": [
        "### **Computing the shortest path between two points on a real road or ocean network**"
      ],
      "metadata": {
        "id": "jkwGIVL5U3BQ"
      },
      "id": "jkwGIVL5U3BQ"
    },
    {
      "cell_type": "code",
      "source": [
        "# Function for computing the shortest path between two points on a real road or ocean network\n",
        "\n",
        "def shortest_path(origin, destination, mode, result, unit='mi'):\n",
        "\n",
        "    # Extract coordinates from origin and destination objects\n",
        "    origin_coordinates = (origin.lat, origin.lon)\n",
        "    destination_coordinates = (destination.lat, destination.lon)\n",
        "\n",
        "    # Calculate the shortest path on the ocean network\n",
        "    if mode == 'ocean':\n",
        "        output = marnet_geograph.get_shortest_path(\n",
        "            origin_node={\"latitude\": origin.lat, \"longitude\": origin.lon},\n",
        "            destination_node={\"latitude\": destination.lat, \"longitude\": destination.lon},\n",
        "            output_units= unit\n",
        "        )\n",
        "\n",
        "    # Calculate the shortest path on the road network\n",
        "    elif mode == 'road':\n",
        "        output = us_freeway_geograph.get_shortest_path(\n",
        "            origin_node={\"latitude\": origin.lat, \"longitude\": origin.lon},\n",
        "            destination_node={\"latitude\": destination.lat, \"longitude\": destination.lon},\n",
        "            output_units= unit\n",
        "        )\n",
        "\n",
        "    # Return the total distance of the path\n",
        "    if result == 'distance':\n",
        "        return output['length']\n",
        "\n",
        "    # Return the coordinates representing the path\n",
        "    elif result == 'coordinate_path':\n",
        "        return output['coordinate_path']\n"
      ],
      "metadata": {
        "id": "aeBIW8fzFxmZ"
      },
      "execution_count": null,
      "outputs": [],
      "id": "aeBIW8fzFxmZ"
    },
    {
      "cell_type": "markdown",
      "source": [
        "### **Ploting flows (real network) on the map**"
      ],
      "metadata": {
        "id": "A-9PCeI34cdz"
      },
      "id": "A-9PCeI34cdz"
    },
    {
      "cell_type": "code",
      "source": [
        "# Functions that adjust the arc path to ensure longitude continuity across the globe\n",
        "\n",
        "def adjustArcPath(path):\n",
        "    for index in range(1, len(path)):\n",
        "        x = path[index][1]\n",
        "        prevX = path[index - 1][1]\n",
        "        path[index][1] = x - (round((x - prevX)/360,0) * 360)\n",
        "    return path\n",
        "\n",
        "def modifyArcPathLong(points, amount):\n",
        "    return [[i[0], i[1]+amount] for i in points]\n",
        "\n",
        "def getCleanArcPath(path):\n",
        "    path = adjustArcPath(path)\n",
        "    return [\n",
        "        path,\n",
        "        modifyArcPathLong(path, 360),\n",
        "        modifyArcPathLong(path, -360),\n",
        "        modifyArcPathLong(path, 720),\n",
        "        modifyArcPathLong(path, -720)\n",
        "    ]\n",
        "\n",
        "# Plots real flow_vars on a Folium map based on optimization model results\n",
        "\n",
        "def plot_real_flows(map,              # Folium map object where flows will be plotted.\n",
        "               vars,                  # Dictionary of flow decision variables from the optimization model\n",
        "               nodes,                 # Dictionary of node objects\n",
        "               mode,                  # Transportation mode (road or ocean)\n",
        "               max_width = 30,        # Maximum line width for the flows, default is 30\n",
        "               color = 'grey',        # Color of the lines representing flow_vars, default is grey\n",
        "               opacity = 0.5):        # Opacity of the lines, default is 0.5\n",
        "\n",
        "    # Find the maximum flow value to normalize line widths\n",
        "    max_val = max([var.X for (node1_key, node2_key), var in vars.items()])\n",
        "\n",
        "    # Iterate over flow decision variables (keys represent node pairs)\n",
        "    for (node1_key, node2_key), var in vars.items():\n",
        "\n",
        "        # Plot only positive flow_vars\n",
        "        if var.X > 0:\n",
        "\n",
        "            # Get the shortest path coordinates for the node pair\n",
        "            path = shortest_path(nodes[node1_key], nodes[node2_key], mode = mode, result = 'coordinate_path')\n",
        "\n",
        "            # Add the path as a polyline on the map, with width proportional to the flow value\n",
        "            folium.PolyLine(getCleanArcPath(path),\n",
        "                      color=color,\n",
        "                      weight=var.X / max_val * max_width,   # Normalize weight by maximum flow value\n",
        "                      opacity=opacity).add_to(map)\n"
      ],
      "metadata": {
        "id": "NPKMJT2Q4c0Q"
      },
      "id": "NPKMJT2Q4c0Q",
      "execution_count": null,
      "outputs": []
    },
    {
      "cell_type": "markdown",
      "source": [
        "## **Data setup and preprocessing**"
      ],
      "metadata": {
        "id": "IK7jLQo_D0-m"
      },
      "id": "IK7jLQo_D0-m"
    },
    {
      "cell_type": "markdown",
      "source": [
        "### **Nodes**"
      ],
      "metadata": {
        "id": "oWIEdPz9ECBK"
      },
      "id": "oWIEdPz9ECBK"
    },
    {
      "cell_type": "markdown",
      "source": [
        "#### Reading input files"
      ],
      "metadata": {
        "id": "hF43JdDLmmcZ"
      },
      "id": "hF43JdDLmmcZ"
    },
    {
      "cell_type": "code",
      "source": [
        "# File containing distribution center data\n",
        "dc_file ='https://raw.githubusercontent.com/scm275/problem_sets_scm275/main/mo_pset/distribution_centers.csv'\n",
        "\n",
        "# Loading DC data into a pandas DataFrame\n",
        "distribution_centers_df = pd.read_csv(dc_file)\n",
        "\n",
        "# Displaying the first few rows of the DataFrame to verify the data\n",
        "distribution_centers_df.head()\n"
      ],
      "metadata": {
        "id": "gzPUMuN59x_D"
      },
      "id": "gzPUMuN59x_D",
      "execution_count": null,
      "outputs": []
    },
    {
      "cell_type": "code",
      "source": [
        "# File containing supplier data\n",
        "supplier_data_file = 'https://raw.githubusercontent.com/scm275/problem_sets_scm275/main/mo_pset/suppliers.csv'\n",
        "\n",
        "# Loading supplier data into a pandas DataFrame\n",
        "suppliers_df = pd.read_csv(supplier_data_file)\n",
        "\n",
        "# Displaying the first few rows of the DataFrame to verify the data\n",
        "suppliers_df.head()"
      ],
      "metadata": {
        "id": "DwOcROzAPjOo"
      },
      "id": "DwOcROzAPjOo",
      "execution_count": null,
      "outputs": []
    },
    {
      "cell_type": "code",
      "source": [
        "# File containing port data\n",
        "port_data_file = 'https://raw.githubusercontent.com/scm275/problem_sets_scm275/main/mo_pset/ports.csv'\n",
        "\n",
        "# Loading port data into a pandas DataFrame\n",
        "ports_df = pd.read_csv(port_data_file)\n",
        "\n",
        "# Displaying the first few rows of the DataFrame to verify the data\n",
        "ports_df.head()\n"
      ],
      "metadata": {
        "id": "6F4gMVwJXb80"
      },
      "id": "6F4gMVwJXb80",
      "execution_count": null,
      "outputs": []
    },
    {
      "cell_type": "markdown",
      "source": [
        "#### Definition of Classes"
      ],
      "metadata": {
        "id": "amWuettSvN81"
      },
      "id": "amWuettSvN81"
    },
    {
      "cell_type": "code",
      "execution_count": null,
      "id": "cb17aec8",
      "metadata": {
        "id": "cb17aec8"
      },
      "outputs": [],
      "source": [
        "# Class representing a DistributionCenter object\n",
        "\n",
        "class DistributionCenter():\n",
        "    def __init__(self, ID, name, lat, lon, demand):\n",
        "        self.ID = ID              # DistributionCenter's ID\n",
        "        self.name = name          # DistributionCenter's name\n",
        "        self.lat = lat            # DistributionCenter's latitude\n",
        "        self.lon = lon            # DistributionCenter's longitude\n",
        "        self.demand = demand      # DistributionCenter's demand\n"
      ]
    },
    {
      "cell_type": "code",
      "execution_count": null,
      "id": "451f9ea0",
      "metadata": {
        "id": "451f9ea0"
      },
      "outputs": [],
      "source": [
        "# Class representing a Supplier object\n",
        "\n",
        "class Supplier():\n",
        "    def __init__(self, ID, name, lat, lon, country, supply, purchase_price):\n",
        "        self.ID = ID                              # Supplier's ID\n",
        "        self.name = name                          # Supplier's name\n",
        "        self.lat = lat                            # Supplier's latitude\n",
        "        self.lon = lon                            # Supplier's longitude\n",
        "        self.country = country                    # Supplier's country\n",
        "        self.supply = supply                      # Supplier's available supply\n",
        "        self.purchase_price = purchase_price      # Supplier's purchase price\n"
      ]
    },
    {
      "cell_type": "code",
      "source": [
        "# Class representing a Port object\n",
        "\n",
        "class Port():\n",
        "    def __init__(self, ID, name, lat, lon, dwell_time):\n",
        "        self.ID = ID                  # Port's ID\n",
        "        self.name = name              # Ports's name\n",
        "        self.lat = lat                # Ports's latitude\n",
        "        self.lon = lon                # Ports's longitude\n",
        "        self.dwell_time = dwell_time  # Ports's dwell time\n"
      ],
      "metadata": {
        "id": "_Xv654KET1Gn"
      },
      "id": "_Xv654KET1Gn",
      "execution_count": null,
      "outputs": []
    },
    {
      "cell_type": "markdown",
      "source": [
        "#### Creating node objects"
      ],
      "metadata": {
        "id": "_lWjzFGJwNDQ"
      },
      "id": "_lWjzFGJwNDQ"
    },
    {
      "cell_type": "code",
      "source": [
        "nodes = dict()"
      ],
      "metadata": {
        "id": "A3FNjoljNii9"
      },
      "id": "A3FNjoljNii9",
      "execution_count": null,
      "outputs": []
    },
    {
      "cell_type": "code",
      "execution_count": null,
      "id": "86d5a963",
      "metadata": {
        "id": "86d5a963"
      },
      "outputs": [],
      "source": [
        "# Creating a dictionary of DC objects\n",
        "distribution_centers = dict()\n",
        "for i, row in distribution_centers_df.iterrows():\n",
        "    distribution_centers[row['ID']] = DistributionCenter(ID=row['ID'],           # Customer's ID\n",
        "                                    name=row['name'],       # DistributionCenter's name\n",
        "                                    lat=row['lat'],         # DistributionCenter's latitude\n",
        "                                    lon=row['lon'],         # DistributionCenter's longitude\n",
        "                                    demand=row['demand'])   # DistributionCenter's demand\n",
        "\n",
        "# Merging the DC dictionary into the existing nodes dictionary\n",
        "nodes = {**nodes, **distribution_centers}"
      ]
    },
    {
      "cell_type": "code",
      "source": [
        "# Computing total demand\n",
        "total_demand = sum([d.demand for d in distribution_centers.values()])"
      ],
      "metadata": {
        "id": "kXsefcaXQfY2"
      },
      "id": "kXsefcaXQfY2",
      "execution_count": null,
      "outputs": []
    },
    {
      "cell_type": "code",
      "source": [
        "# Creating a dictionary of supplier objects\n",
        "suppliers = dict()\n",
        "for i, row in suppliers_df.iterrows():\n",
        "    suppliers[row['ID']] = Supplier(ID=row['ID'],                             # Supplier's ID\n",
        "                                    name=row['name'],                         # Supplier's name\n",
        "                                    lat=row['lat'],                           # Supplier's latitude\n",
        "                                    lon=row['lon'],                           # Supplier's longitude\n",
        "                                    country=row['country'],                   # Supplier's country\n",
        "                                    purchase_price=row['purchase_price'],     # Supplier's purchase price\n",
        "                                    supply=row['supply'])                     # Supplier's available supply\n",
        "\n",
        "# Merging the suppliers dictionary into the existing nodes dictionary\n",
        "nodes = {**nodes, **suppliers}"
      ],
      "metadata": {
        "id": "IbpQV1rOPHeR"
      },
      "id": "IbpQV1rOPHeR",
      "execution_count": null,
      "outputs": []
    },
    {
      "cell_type": "code",
      "source": [
        "# Differentiating between US and international suppliers\n",
        "\n",
        "US_suppliers = {s: supplier for s, supplier in suppliers.items() if supplier.country == 'US'}\n",
        "INTL_suppliers = {s: supplier for s, supplier in suppliers.items() if supplier.country != 'US'}"
      ],
      "metadata": {
        "id": "z50uf6mi2daI"
      },
      "id": "z50uf6mi2daI",
      "execution_count": null,
      "outputs": []
    },
    {
      "cell_type": "code",
      "source": [
        "# Creating a dictionary of port objects\n",
        "ports = dict()\n",
        "for i, row in ports_df.iterrows():\n",
        "    ports[row['ID']] = Port(ID = row['ID'],                         # Port's ID\n",
        "                                    name = row['name'],             # Port's name\n",
        "                                    lat = row['lat'],               # Port's latitude\n",
        "                                    lon = row['lon'],               # Port's longitude\n",
        "                                    dwell_time = row['dwell_time']) # Port's longitude\n",
        "\n",
        "# Merging the port dictionary into the existing nodes dictionary\n",
        "nodes = {**nodes, **ports}"
      ],
      "metadata": {
        "id": "2QMxqLpfXy03"
      },
      "id": "2QMxqLpfXy03",
      "execution_count": null,
      "outputs": []
    },
    {
      "cell_type": "markdown",
      "source": [
        "#### Visualizing node objects"
      ],
      "metadata": {
        "id": "l6_XN3Ogw2zm"
      },
      "id": "l6_XN3Ogw2zm"
    },
    {
      "cell_type": "code",
      "source": [
        "# Create a new map\n",
        "map = folium.Map([40, -100.0], zoom_start=2)\n",
        "\n",
        "# Plot DC locations with a store icon, green color, and yellow background\n",
        "plot_nodes(map=map, nodes=distribution_centers, icon='warehouse', color='green', background_color='yellow')\n",
        "\n",
        "# Plot port locations with an anchor icon, blue color, and white background\n",
        "plot_nodes(map=map, nodes=ports, icon='anchor', color='blue', background_color='white')\n",
        "\n",
        "# Plot supplier locations with an industry icon, orange color, and yellow background\n",
        "plot_nodes(map=map, nodes=suppliers, icon='industry', color='orange', background_color='yellow')\n",
        "\n",
        "# Add a tile layer for better map visualization (cartodbpositron theme)\n",
        "folium.TileLayer('cartodbpositron').add_to(map)\n",
        "\n",
        "# Display the map with all the plotted data\n",
        "map\n"
      ],
      "metadata": {
        "id": "JUC6Rdrw_d4P"
      },
      "id": "JUC6Rdrw_d4P",
      "execution_count": null,
      "outputs": []
    },
    {
      "cell_type": "markdown",
      "source": [
        "### **Arcs**"
      ],
      "metadata": {
        "id": "38TRxn_9xWi5"
      },
      "id": "38TRxn_9xWi5"
    },
    {
      "cell_type": "markdown",
      "source": [
        "#### Arc distances"
      ],
      "metadata": {
        "id": "a8o3LMfkPDo4"
      },
      "id": "a8o3LMfkPDo4"
    },
    {
      "cell_type": "code",
      "source": [
        "# Creating a dictionary to store distances between suppliers and ports, and ports and customers\n",
        "\n",
        "distances = dict()  # Initialize an empty dictionary to store distances\n",
        "\n",
        "# Calculate distances between each international supplier and port using the ocean network\n",
        "for s, supplier in INTL_suppliers.items():\n",
        "    for p, port in ports.items():\n",
        "        distances[s, p] = shortest_path(origin=supplier, destination=port, mode='ocean', result='distance', unit='km')\n",
        "\n",
        "# Calculate distances between each port and distribution center using the road network\n",
        "for p, port in ports.items():\n",
        "  for d, distribution_center in distribution_centers.items():\n",
        "        distances[p, d] = shortest_path(origin=port, destination=distribution_center, mode='road', result='distance', unit='km')\n",
        "\n",
        "# Calculate distances between each US supplier and distribution center using the road network\n",
        "for s, supplier in US_suppliers.items():\n",
        "    for d, distribution_center in distribution_centers.items():\n",
        "      distances[s, d] = shortest_path(origin = supplier, destination = distribution_center, mode = 'road', result = 'distance', unit = 'km')\n",
        "\n"
      ],
      "metadata": {
        "id": "gNevX6JtxWjA"
      },
      "execution_count": null,
      "outputs": [],
      "id": "gNevX6JtxWjA"
    },
    {
      "cell_type": "markdown",
      "source": [
        "#### Arc costs"
      ],
      "metadata": {
        "id": "geZ9rMyUOpX8"
      },
      "id": "geZ9rMyUOpX8"
    },
    {
      "cell_type": "code",
      "source": [
        "# Creating a dictionary to store unit transportation costs between different nodes\n",
        "unit_cost = dict()\n",
        "\n",
        "# Unit transportation costs beteween suppliers and ports (ocean)\n",
        "\n",
        "# Cost per kilometer for ocean transport\n",
        "cost_km_ocean = 0.01\n",
        "\n",
        "# Calculate the ocean transport cost for each supplier-port pair\n",
        "for s, supplier in INTL_suppliers.items():\n",
        "    for p, port in ports.items():\n",
        "        # Ocean transport cost is calculated by multiplying distance by cost per kilometer\n",
        "        unit_cost[s, p] = distances[s, p] * cost_km_ocean\n",
        "\n",
        "\n",
        "# Unit transportation costs beteween ports and customers (road)\n",
        "\n",
        "# Minimum transportation cost for short distances\n",
        "min_cost = 25\n",
        "\n",
        "# Distance threshold to differentiate between long and short distance rates\n",
        "distance_threshold = 1500\n",
        "\n",
        "# Cost per kilometer for long-distance road transport\n",
        "long_distance_rate = 0.1\n",
        "\n",
        "# Cost per kilometer for short-distance road transport\n",
        "short_distance_rate = 0.2\n",
        "\n",
        "# Calculate the road transport cost for each port-distribution center pair\n",
        "for p, port in ports.items():\n",
        "    for d, distribution_center in distribution_centers.items():\n",
        "        # Apply long-distance rate if the distance exceeds the threshold\n",
        "        if distances[p, d] > distance_threshold:\n",
        "            unit_cost[p, d] = distances[p, d] * long_distance_rate\n",
        "        # Apply short-distance rate, ensuring cost does not fall below minimum cost\n",
        "        else:\n",
        "            unit_cost[p, d] = max(min_cost, distances[p, d] * short_distance_rate)\n",
        "\n",
        "# Calculate the road transport cost for each US supplier-distribution center pair\n",
        "for s, supplier in US_suppliers.items():\n",
        "    for d, distribution_center in distribution_centers.items():\n",
        "        # Apply long-distance rate if the distance exceeds the threshold\n",
        "        if distances[s, d] > distance_threshold:\n",
        "            unit_cost[s, d] = distances[s, d] * long_distance_rate\n",
        "        # Apply short-distance rate, ensuring cost does not fall below minimum cost\n",
        "        else:\n",
        "            unit_cost[s, d] = max(min_cost, distances[s, d] * short_distance_rate)\n"
      ],
      "metadata": {
        "id": "LzoqF7aXOpYC"
      },
      "execution_count": null,
      "outputs": [],
      "id": "LzoqF7aXOpYC"
    },
    {
      "cell_type": "markdown",
      "source": [
        "#### Arc lead times"
      ],
      "metadata": {
        "id": "iTI5tPi06H4P"
      },
      "id": "iTI5tPi06H4P"
    },
    {
      "cell_type": "code",
      "source": [
        "# Defining parameters\n",
        "ocean_speed = 750  # per day\n",
        "road_speed = 400  # per day\n",
        "\n",
        "# Lead time dictionary\n",
        "lead_time = dict()\n",
        "\n",
        "# Compute ocean lead times\n",
        "for s, supplier in INTL_suppliers.items():\n",
        "    for p, port in ports.items():\n",
        "        lead_time[s, p] = round(distances[s, p] / ocean_speed, 2) + port.dwell_time\n",
        "\n",
        "# Compute road lead times\n",
        "for p, port in ports.items():\n",
        "    for d, distribution_center in distribution_centers.items():\n",
        "        lead_time[p, d] = round(distances[p, d] / road_speed, 2)\n",
        "\n",
        "for s, supplier in US_suppliers.items():\n",
        "    for d, distribution_center in distribution_centers.items():\n",
        "        lead_time[s, d] = round(distances[s, d] / road_speed, 2)\n"
      ],
      "metadata": {
        "id": "Js-KwfV96H4Q"
      },
      "execution_count": null,
      "outputs": [],
      "id": "Js-KwfV96H4Q"
    },
    {
      "cell_type": "markdown",
      "source": [
        "#### Arc emission"
      ],
      "metadata": {
        "id": "UB8oUxv26IF8"
      },
      "id": "UB8oUxv26IF8"
    },
    {
      "cell_type": "code",
      "source": [
        "# Defining the emission factors (in pounds of CO2 per ton-mile)\n",
        "\n",
        "# Source:\n",
        "# Shirley, C., & Gecan, R. (2022). Emissions of Carbon Dioxide in the Transportation Sector.\n",
        "# https://www.cbo.gov/system/files/2022-12/58566-co2-emissions-transportation.pdf\n",
        "\n",
        "# Defining emission factors in tons of CO2\n",
        "ton_to_pounds = 2204.62\n",
        "emission_fact_road = 0.4 / ton_to_pounds\n",
        "emission_fact_ocean = 0.14 / ton_to_pounds\n",
        "\n",
        "# Emissions dictionary\n",
        "unit_emissions = dict()\n",
        "\n",
        "# Compute ocean emissions directly\n",
        "for s, supplier in INTL_suppliers.items():\n",
        "    for p, port in ports.items():\n",
        "        unit_emissions[s, p] = distances[s, p] * emission_fact_ocean\n",
        "\n",
        "# Compute road emissions directly\n",
        "for p, port in ports.items():\n",
        "    for d, distribution_center in distribution_centers.items():\n",
        "        unit_emissions[p, d] = distances[p, d] * emission_fact_road\n",
        "\n",
        "for s, supplier in US_suppliers.items():\n",
        "    for d, distribution_center in distribution_centers.items():\n",
        "        unit_emissions[s, d] = distances[s, d] * emission_fact_road\n"
      ],
      "metadata": {
        "id": "uDQ__XY-6IF8"
      },
      "execution_count": null,
      "outputs": [],
      "id": "uDQ__XY-6IF8"
    },
    {
      "cell_type": "markdown",
      "source": [
        "## **Optimization model**"
      ],
      "metadata": {
        "id": "MRfrVcxZ7x80"
      },
      "id": "MRfrVcxZ7x80"
    },
    {
      "cell_type": "markdown",
      "source": [
        "### **Creating the optimization model components**"
      ],
      "metadata": {
        "id": "L5owZ4Ra7x84"
      },
      "id": "L5owZ4Ra7x84"
    },
    {
      "cell_type": "markdown",
      "source": [
        "*Note: In this first block of code, we are creating the components of the optimization model, including decision variables, expressions for the objective function, and constraints. We are not yet specifying the objective function, which will be defined in a later step (see below). We do this to avoid rewriting the same code multiple times*"
      ],
      "metadata": {
        "id": "ib4ZTwI4nE2r"
      },
      "id": "ib4ZTwI4nE2r"
    },
    {
      "cell_type": "code",
      "execution_count": null,
      "id": "1d3ac27d",
      "metadata": {
        "id": "1d3ac27d"
      },
      "outputs": [],
      "source": [
        "e = grb.Env(\"gurobi.log\")                      # Initialize the Gurobi environment, logging to \"gurobi.log\"\n",
        "e.setParam('OutputFlag', 0)                    # Suppress Gurobi output for a cleaner log\n",
        "# model.Params.MIPGap = 0.000001               # Uncomment to set a tighter MIP gap if needed for precise solutions\n",
        "\n",
        "# Initializing the model\n",
        "model = grb.Model(\"Model\", env=e)              # Create the Gurobi model for solving the multi-objective optimization problem\n",
        "\n",
        "# Creating Decision Variables\n",
        "flow_vars_ocean = dict()                       # Decision variables for ocean transport flows\n",
        "flow_vars_road = dict()                        # Decision variables for road transport flows\n",
        "\n",
        "# Define ocean transport flow variables between international suppliers and ports\n",
        "for s in INTL_suppliers:\n",
        "    for p in ports:\n",
        "        flow_vars_ocean[s, p] = model.addVar(vtype=grb.GRB.CONTINUOUS,\n",
        "                                   name=\"flow_{0}_{1}\".format(s, p))\n",
        "\n",
        "# Define road transport flow variables between ports and distribution centers\n",
        "for p in ports:\n",
        "    for d in distribution_centers:\n",
        "        flow_vars_road[p, d] = model.addVar(vtype=grb.GRB.CONTINUOUS,\n",
        "                                   name=\"flow_{0}_{1}\".format(p, d))\n",
        "\n",
        "# Define road transport flow variables between U.S. suppliers and distribution centers\n",
        "for s in US_suppliers:\n",
        "    for d in distribution_centers:\n",
        "        flow_vars_road[s, d] = model.addVar(vtype=grb.GRB.CONTINUOUS,\n",
        "                                   name=\"flow_{0}_{1}\".format(s, d))\n",
        "\n",
        "# Creating the objective function components\n",
        "\n",
        "# Calculate total transport cost\n",
        "transport_cost = grb.quicksum(unit_cost[s, p] * flow_vars_ocean[s, p] for s in INTL_suppliers for p in ports) + \\\n",
        "                 grb.quicksum(unit_cost[p, d] * flow_vars_road[p, d] for p in ports for d in distribution_centers) + \\\n",
        "                 grb.quicksum(unit_cost[s, d] * flow_vars_road[s, d] for s in US_suppliers for d in distribution_centers)\n",
        "\n",
        "# Calculate total purchase cost\n",
        "purchase_cost = grb.quicksum(suppliers[s].purchase_price * flow_vars_ocean[s, p] for s in INTL_suppliers for p in ports) + \\\n",
        "                grb.quicksum(suppliers[s].purchase_price * flow_vars_road[s, d] for s in US_suppliers for d in distribution_centers)\n",
        "\n",
        "# Total cost includes both transport and purchase costs\n",
        "total_cost = transport_cost + purchase_cost\n",
        "\n",
        "# Calculate total emissions from transport\n",
        "total_emissions = grb.quicksum(unit_emissions[s, p] * flow_vars_ocean[s, p] for s in INTL_suppliers for p in ports) + \\\n",
        "                  grb.quicksum(unit_emissions[p, d] * flow_vars_road[p, d] for p in ports for d in distribution_centers) + \\\n",
        "                  grb.quicksum(unit_emissions[s, d] * flow_vars_road[s, d] for s in US_suppliers for d in distribution_centers)\n",
        "\n",
        "# Calculate total lead time, normalized by total demand\n",
        "total_lead_time = grb.quicksum(lead_time[s, p] * flow_vars_ocean[s, p] for s in INTL_suppliers for p in ports) / total_demand + \\\n",
        "                  grb.quicksum(lead_time[p, d] * flow_vars_road[p, d] for p in ports for d in distribution_centers) / total_demand + \\\n",
        "                  grb.quicksum(lead_time[s, d] * flow_vars_road[s, d] for s in US_suppliers for d in distribution_centers) / total_demand\n",
        "\n",
        "# Adding Constraints\n",
        "\n",
        "# Ensure demand is met at each distribution center\n",
        "for d, distribution_center in distribution_centers.items():\n",
        "    model.addConstr(grb.quicksum(flow_vars_road[s, d] for s in US_suppliers) +\n",
        "                    grb.quicksum(flow_vars_road[p, d] for p in ports) == distribution_centers[d].demand)\n",
        "\n",
        "# Ensure supply limits are not exceeded for U.S. suppliers\n",
        "for s, supplier in US_suppliers.items():\n",
        "    model.addConstr(grb.quicksum(flow_vars_road[s, d] for d in distribution_centers) <= suppliers[s].supply)\n",
        "\n",
        "# Ensure supply limits are not exceeded for international suppliers\n",
        "for s, supplier in INTL_suppliers.items():\n",
        "    model.addConstr(grb.quicksum(flow_vars_ocean[s, p] for p in ports) <= suppliers[s].supply)\n",
        "\n",
        "# Ensure flow balance at ports (incoming ocean flows equal outgoing road flows)\n",
        "for p, port in ports.items():\n",
        "    model.addConstr(grb.quicksum(flow_vars_ocean[s, p] for s in INTL_suppliers) ==\n",
        "                    grb.quicksum(flow_vars_road[p, d] for d in distribution_centers))\n"
      ]
    },
    {
      "cell_type": "markdown",
      "source": [
        "### **Single Objective Optimization**"
      ],
      "metadata": {
        "id": "WaOYiKTUuFt3"
      },
      "id": "WaOYiKTUuFt3"
    },
    {
      "cell_type": "markdown",
      "source": [
        "***❗Task 1a: Optimize for each individual objective - cost***\n",
        "\n",
        "Set the model's objective function to minimize total cost (in \\$). Then, check the total cost value from the output of the print statement."
      ],
      "metadata": {
        "id": "HoCwzMrGPMyj"
      },
      "id": "HoCwzMrGPMyj"
    },
    {
      "cell_type": "code",
      "source": [
        "# Your code here\n",
        "\n",
        "\n",
        "\n",
        "print(round(total_cost.getValue(), 2))"
      ],
      "metadata": {
        "id": "GEHVzxwku-wH"
      },
      "id": "GEHVzxwku-wH",
      "execution_count": null,
      "outputs": []
    },
    {
      "cell_type": "markdown",
      "source": [
        "***❗Task 1b: Optimize for each individual objective - emissions***\n",
        "Set the model's objective function to minimize total emissions (in tons of CO2). Then, check the total emissions value from the output of the print statement."
      ],
      "metadata": {
        "id": "0NkW5AbDuyLz"
      },
      "id": "0NkW5AbDuyLz"
    },
    {
      "cell_type": "code",
      "source": [
        "# Your code here\n",
        "\n",
        "\n",
        "\n",
        "print(round(total_emissions.getValue(), 2))"
      ],
      "metadata": {
        "id": "IfO2a2GMvL0M"
      },
      "id": "IfO2a2GMvL0M",
      "execution_count": null,
      "outputs": []
    },
    {
      "cell_type": "markdown",
      "source": [
        "***❗Task 1c: Optimize for each individual objective - lead time***\n",
        "Set the model's objective function to minimize the average lead time (in days). Then, check the lead time value from the output of the print statement."
      ],
      "metadata": {
        "id": "dQGruMPxuyRo"
      },
      "id": "dQGruMPxuyRo"
    },
    {
      "cell_type": "code",
      "source": [
        "# Your code here\n",
        "\n",
        "\n",
        "\n",
        "print(round(total_lead_time.getValue(), 2))"
      ],
      "metadata": {
        "id": "9jlKl_CruFt4"
      },
      "execution_count": null,
      "outputs": [],
      "id": "9jlKl_CruFt4"
    },
    {
      "cell_type": "markdown",
      "source": [
        "### **Converting Objectives into a single Unit**"
      ],
      "metadata": {
        "id": "ABxPS9EJG8YC"
      },
      "id": "ABxPS9EJG8YC"
    },
    {
      "cell_type": "markdown",
      "source": [
        "***❗Task 2: Converting the emissions into cost***\n",
        "\n",
        "Define the expression for `total_cost_and_emissions`, which integrates costs and emissions by converting emissions using a social cost of \\$185 per ton of CO2.  Set the model's objective function to minimize this combined value. Verify the total cost and emissions value from the output of the print statement."
      ],
      "metadata": {
        "id": "sENsQKt9wBPp"
      },
      "id": "sENsQKt9wBPp"
    },
    {
      "cell_type": "code",
      "source": [
        "# Social cost of CO2 in dollars per ton, based on referenced study\n",
        "social_cost_emissions = 185\n",
        "\n",
        "# Combining the total transportation cost with the social cost of emissions\n",
        "\n",
        "# Your code here\n",
        "\n",
        "\n",
        "\n",
        "\n",
        "\n",
        "print(round(total_cost_and_emissions.getValue(), 2))"
      ],
      "metadata": {
        "id": "NYkwrhYjwBPq"
      },
      "execution_count": null,
      "outputs": [],
      "id": "NYkwrhYjwBPq"
    },
    {
      "cell_type": "markdown",
      "source": [
        "### **Conversion of one objective**"
      ],
      "metadata": {
        "id": "gLVa5KCxxDW1"
      },
      "id": "gLVa5KCxxDW1"
    },
    {
      "cell_type": "markdown",
      "source": [
        "***❗Task 3a: Find utopia and nadir points***\n",
        "\n",
        "Optimize for Total cost and emissions to find the utopia for Total cost and emissions and the nadir for Lead time."
      ],
      "metadata": {
        "id": "48aaUoY5xDW2"
      },
      "id": "48aaUoY5xDW2"
    },
    {
      "cell_type": "code",
      "source": [
        "# Task 3.a\n",
        "\n",
        "# Your code here\n",
        "\n",
        "\n",
        "\n",
        "\n",
        "\n",
        "print('Utopia for Total Cost and Emissions: ', round(utopia_cost_emissions, 2))\n",
        "print('Nadir for Lead Time: ', round(nadir_lead_time, 2))"
      ],
      "metadata": {
        "id": "i3O5UueZHe4z"
      },
      "execution_count": null,
      "outputs": [],
      "id": "i3O5UueZHe4z"
    },
    {
      "cell_type": "markdown",
      "source": [
        "***❗Task 3b: Find utopia and nadir points***\n",
        "\n",
        "Optimize for Lead time to find the utopia for Lead time and the nadir for Total cost and emissions"
      ],
      "metadata": {
        "id": "etqM21d3kbih"
      },
      "id": "etqM21d3kbih"
    },
    {
      "cell_type": "code",
      "source": [
        "# Task 3.b\n",
        "\n",
        "# Your code here\n",
        "\n",
        "\n",
        "\n",
        "\n",
        "\n",
        "print('Utopia for Lead Time: ', round(utopia_lead_time, 2))\n",
        "print('Nadir for Total Cost and Emissions: ', round(nadir_cost_emissions, 2))"
      ],
      "metadata": {
        "id": "LcaPhRTFHe40"
      },
      "execution_count": null,
      "outputs": [],
      "id": "LcaPhRTFHe40"
    },
    {
      "cell_type": "markdown",
      "source": [
        "***❗Task 4: Normalized values***\n",
        "\n",
        "Define the expression of a normalized cost and emissions and normalized lead time. Then, set the models objective function to minimize the normalized cost and emissions. Verify the obtained values from the output of the print statement."
      ],
      "metadata": {
        "id": "veCeub-AyFY-"
      },
      "id": "veCeub-AyFY-"
    },
    {
      "cell_type": "code",
      "source": [
        "# Your code here\n",
        "\n",
        "\n",
        "\n",
        "\n",
        "\n",
        "\n",
        "print('Normalized Cost and Emissions: ', round(normalized_cost_emissions.getValue(), 2))\n",
        "print('Total Cost and Emissions: ', round(total_cost_and_emissions.getValue(), 2))\n",
        "print('Normalized Lead Time: ', round(normalized_lead_time.getValue(), 2))\n",
        "print('Total Lead Time: ', round(total_lead_time.getValue(), 2))\n"
      ],
      "metadata": {
        "id": "wk6c5Bk-y8bn"
      },
      "id": "wk6c5Bk-y8bn",
      "execution_count": null,
      "outputs": []
    },
    {
      "cell_type": "markdown",
      "source": [
        "***❗Task 5: Weighted sum method***\n",
        "\n",
        "Implement the weighted sum method with the two objectives, `normalized_cost_emissions` and `normalized_lead_time`. Use the weights provided in the notebook to obtain the solution."
      ],
      "metadata": {
        "id": "Sj-PWqhnziOR"
      },
      "id": "Sj-PWqhnziOR"
    },
    {
      "cell_type": "code",
      "source": [
        "weight_cost_emissions = 0.6\n",
        "weight_lead_time = 0.4\n",
        "\n",
        "# Your code here\n",
        "\n",
        "\n",
        "\n",
        "\n",
        "\n",
        "\n",
        "\n",
        "print('Combined Objective: ', round(combined_objective.getValue(), 2))\n",
        "print('Normalized Lead Time: ', round(normalized_lead_time.getValue(), 2))\n",
        "print('Normalized Cost and Emissions: ', round(normalized_cost_emissions.getValue(), 2))\n",
        "\n",
        "print(\"---\")\n",
        "\n",
        "print('Total Lead Time: ', round(total_lead_time.getValue(), 2))\n",
        "print('Total Cost and Emissions: ', round(total_cost_and_emissions.getValue(), 2))\n",
        "\n"
      ],
      "metadata": {
        "id": "wdmTV2yuziOS"
      },
      "execution_count": null,
      "outputs": [],
      "id": "wdmTV2yuziOS"
    },
    {
      "cell_type": "markdown",
      "source": [
        "***❗Task 6: Epsilon constraint method***\n",
        "\n",
        "Implement the Epsilon constraint method by setting `normalized_cost_emissions` as the primary objective and using `normalized_lead_time` as the Epsilon constraint. Ensure that `normalized_lead_time` is restricted to be less than 0.8."
      ],
      "metadata": {
        "id": "UMHKEIqU0GSg"
      },
      "id": "UMHKEIqU0GSg"
    },
    {
      "cell_type": "code",
      "source": [
        "epsilon = 0.8\n",
        "\n",
        "# Your code here\n",
        "\n",
        "\n",
        "\n",
        "\n",
        "\n",
        "\n",
        "print('Combined Objective: ', round(combined_objective.getValue(), 2))\n",
        "print('Normalized Lead Time: ', round(normalized_lead_time.getValue(), 2))\n",
        "print('Normalized Cost and Emissions: ', round(normalized_cost_emissions.getValue(), 2))\n",
        "\n",
        "print(\"---\")\n",
        "\n",
        "print('Total Lead Time: ', round(total_lead_time.getValue(), 2))\n",
        "print('Total Cost and Emissions: ', round(total_cost_and_emissions.getValue(), 2))\n",
        "\n"
      ],
      "metadata": {
        "id": "SvI4gDAJ0GSh"
      },
      "execution_count": null,
      "outputs": [],
      "id": "SvI4gDAJ0GSh"
    },
    {
      "cell_type": "code",
      "source": [],
      "metadata": {
        "id": "GtcqZA4qqLcG"
      },
      "id": "GtcqZA4qqLcG",
      "execution_count": null,
      "outputs": []
    }
  ],
  "metadata": {
    "kernelspec": {
      "display_name": "Python 3 (ipykernel)",
      "language": "python",
      "name": "python3"
    },
    "language_info": {
      "codemirror_mode": {
        "name": "ipython",
        "version": 3
      },
      "file_extension": ".py",
      "mimetype": "text/x-python",
      "name": "python",
      "nbconvert_exporter": "python",
      "pygments_lexer": "ipython3",
      "version": "3.11.5"
    },
    "colab": {
      "provenance": [],
      "include_colab_link": true
    }
  },
  "nbformat": 4,
  "nbformat_minor": 5
}